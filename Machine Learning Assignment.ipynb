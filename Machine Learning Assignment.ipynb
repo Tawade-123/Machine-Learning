{
 "cells": [
  {
   "cell_type": "code",
   "execution_count": 1,
   "id": "4b7988a1-c34e-4fe6-be46-02ac10b6b166",
   "metadata": {},
   "outputs": [],
   "source": [
    "# Import necessary libraries\n",
    "import pandas as pd\n",
    "import seaborn as sns\n",
    "import matplotlib.pyplot as plt\n",
    "from sklearn.model_selection import train_test_split\n",
    "from sklearn.ensemble import RandomForestClassifier\n",
    "from sklearn.metrics import classification_report, accuracy_score\n",
    "from sklearn.model_selection import train_test_split\n",
    "from sklearn.preprocessing import StandardScaler\n",
    "from sklearn.preprocessing import StandardScaler, OneHotEncoder\n",
    "from sklearn.impute import SimpleImputer\n",
    "from sklearn.compose import ColumnTransformer\n",
    "from sklearn.pipeline import Pipeline\n",
    "from sklearn.ensemble import RandomForestClassifier, GradientBoostingClassifier, BaggingClassifier\n",
    "from sklearn.linear_model import LogisticRegression\n",
    "from sklearn.tree import DecisionTreeClassifier\n",
    "from joblib import dump, load\n",
    "\n"
   ]
  },
  {
   "cell_type": "code",
   "execution_count": 2,
   "id": "22ad6f36-558e-459b-b98a-9d5d98347194",
   "metadata": {},
   "outputs": [
    {
     "name": "stdout",
     "output_type": "stream",
     "text": [
      "   f_1    f_2      f_3     f_4  f_5       f_6    f_7   f_8      f_9  f_10  \\\n",
      "0    1   2558  1506.09  456.63   90   6395000  40.88  7.89  29780.0  0.19   \n",
      "1    2  22325    79.11  841.03  180  55812500  51.11  1.21  61900.0  0.02   \n",
      "2    3    115  1449.85  608.43   88    287500  40.42  7.34   3340.0  0.18   \n",
      "3    4   1201  1562.53  295.65   66   3002500  42.40  7.97  18030.0  0.19   \n",
      "4    5    312   950.27  440.86   37    780000  41.43  7.03   3350.0  0.17   \n",
      "\n",
      "   ...     f_41      f_42     f_43     f_44   f_45  f_46      f_47   f_48  \\\n",
      "0  ...  2850.00   1000.00   763.16   135.46   3.73     0  33243.19  65.74   \n",
      "1  ...  5750.00  11500.00  9593.48  1648.80   0.60     0  51572.04  65.73   \n",
      "2  ...  1400.00    250.00   150.00    45.13   9.33     1  31692.84  65.81   \n",
      "3  ...  6041.52    761.58   453.21   144.97  13.33     1  37696.21  65.67   \n",
      "4  ...  1320.04    710.63   512.54   109.16   2.58     0  29038.17  65.66   \n",
      "\n",
      "   f_49  target  \n",
      "0  7.95       1  \n",
      "1  6.26       0  \n",
      "2  7.84       1  \n",
      "3  8.07       1  \n",
      "4  7.35       0  \n",
      "\n",
      "[5 rows x 50 columns]\n"
     ]
    }
   ],
   "source": [
    "# Load the CSV file\n",
    "df = pd.read_csv('oil_spill.csv')\n",
    "\n",
    "# View the first few rows of the dataset\n",
    "print(df.head())"
   ]
  },
  {
   "cell_type": "code",
   "execution_count": 3,
   "id": "69ec5d17-495a-470f-b48a-75a2372001ac",
   "metadata": {},
   "outputs": [],
   "source": [
    "# Separate features and target\n",
    "X = df.drop(columns=['target'])  # Features\n",
    "y = df['target']  # Target variable"
   ]
  },
  {
   "cell_type": "code",
   "execution_count": 4,
   "id": "9e923dce-6431-4dcc-ab91-607fcc091c05",
   "metadata": {},
   "outputs": [],
   "source": [
    "# Split the data into training and testing sets (80% train, 20% test)\n",
    "X_train, X_test, y_train, y_test = train_test_split(X, y, test_size=0.2, random_state=42)\n"
   ]
  },
  {
   "cell_type": "code",
   "execution_count": 5,
   "id": "810b42df-50e3-4242-82d7-7ba907849a2c",
   "metadata": {},
   "outputs": [],
   "source": [
    "# Initialize a RandomForestClassifier\n",
    "clf = RandomForestClassifier(n_estimators=100, random_state=42)"
   ]
  },
  {
   "cell_type": "code",
   "execution_count": 6,
   "id": "b1d8416d-5a04-46ea-8b57-3335f4556028",
   "metadata": {},
   "outputs": [],
   "source": [
    "# Train the model\n",
    "clf.fit(X_train, y_train)\n",
    "\n",
    "# Make predictions on the test set\n",
    "y_pred = clf.predict(X_test)"
   ]
  },
  {
   "cell_type": "code",
   "execution_count": 7,
   "id": "d54e7f19-6ed4-46f3-94c7-5b1347aab1b0",
   "metadata": {},
   "outputs": [],
   "source": [
    "# Evaluate the model\n",
    "accuracy = accuracy_score(y_test, y_pred)\n",
    "report = classification_report(y_test, y_pred)"
   ]
  },
  {
   "cell_type": "code",
   "execution_count": 8,
   "id": "4904807d-a65a-45e2-8ef3-2dae62b7d86e",
   "metadata": {},
   "outputs": [
    {
     "name": "stdout",
     "output_type": "stream",
     "text": [
      "Accuracy: 96.81%\n",
      "Classification Report:\n",
      "               precision    recall  f1-score   support\n",
      "\n",
      "           0       0.98      0.99      0.98       182\n",
      "           1       0.50      0.33      0.40         6\n",
      "\n",
      "    accuracy                           0.97       188\n",
      "   macro avg       0.74      0.66      0.69       188\n",
      "weighted avg       0.96      0.97      0.96       188\n",
      "\n"
     ]
    }
   ],
   "source": [
    "# Print the results\n",
    "print(f\"Accuracy: {accuracy * 100:.2f}%\")\n",
    "print(\"Classification Report:\\n\", report)"
   ]
  },
  {
   "cell_type": "code",
   "execution_count": 9,
   "id": "2fed2e6f-9c6a-4d31-97d2-44505d171e76",
   "metadata": {},
   "outputs": [
    {
     "name": "stdout",
     "output_type": "stream",
     "text": [
      "Missing values in each column:\n",
      " f_1       0\n",
      "f_2       0\n",
      "f_3       0\n",
      "f_4       0\n",
      "f_5       0\n",
      "f_6       0\n",
      "f_7       0\n",
      "f_8       0\n",
      "f_9       0\n",
      "f_10      0\n",
      "f_11      0\n",
      "f_12      0\n",
      "f_13      0\n",
      "f_14      0\n",
      "f_15      0\n",
      "f_16      0\n",
      "f_17      0\n",
      "f_18      0\n",
      "f_19      0\n",
      "f_20      0\n",
      "f_21      0\n",
      "f_22      0\n",
      "f_23      0\n",
      "f_24      0\n",
      "f_25      0\n",
      "f_26      0\n",
      "f_27      0\n",
      "f_28      0\n",
      "f_29      0\n",
      "f_30      0\n",
      "f_31      0\n",
      "f_32      0\n",
      "f_33      0\n",
      "f_34      0\n",
      "f_35      0\n",
      "f_36      0\n",
      "f_37      0\n",
      "f_38      0\n",
      "f_39      0\n",
      "f_40      0\n",
      "f_41      0\n",
      "f_42      0\n",
      "f_43      0\n",
      "f_44      0\n",
      "f_45      0\n",
      "f_46      0\n",
      "f_47      0\n",
      "f_48      0\n",
      "f_49      0\n",
      "target    0\n",
      "dtype: int64\n"
     ]
    }
   ],
   "source": [
    "# 1. Check for missing values\n",
    "missing_values = df.isnull().sum()\n",
    "print(\"Missing values in each column:\\n\", missing_values)\n",
    "\n",
    "# If there are any missing values, we can fill them (or drop, depending on the situation)\n",
    "# Assuming we fill missing values with the median of the respective column\n",
    "df.fillna(df.median(), inplace=True)"
   ]
  },
  {
   "cell_type": "code",
   "execution_count": 10,
   "id": "73e8b462-e182-4973-98c9-6e5c0e2dddcb",
   "metadata": {},
   "outputs": [
    {
     "name": "stdout",
     "output_type": "stream",
     "text": [
      "\n",
      "Number of duplicate rows: 0\n"
     ]
    }
   ],
   "source": [
    "# 2. Check for duplicate rows\n",
    "duplicate_rows = df.duplicated().sum()\n",
    "print(f\"\\nNumber of duplicate rows: {duplicate_rows}\")\n",
    "\n",
    "# Drop duplicate rows if any\n",
    "df = df.drop_duplicates()"
   ]
  },
  {
   "cell_type": "code",
   "execution_count": 11,
   "id": "23c3333f-be51-4976-b579-4ac3ea51d2e5",
   "metadata": {},
   "outputs": [
    {
     "name": "stdout",
     "output_type": "stream",
     "text": [
      "\n",
      "Summary statistics:\n",
      "               f_1           f_2          f_3          f_4         f_5  \\\n",
      "count  937.000000    937.000000   937.000000   937.000000  937.000000   \n",
      "mean    81.588047    332.842049   698.707086   870.992209   84.121665   \n",
      "std     64.976730   1931.938570   599.965577   522.799325   45.361771   \n",
      "min      1.000000     10.000000     1.920000     1.000000    0.000000   \n",
      "25%     31.000000     20.000000    85.270000   444.200000   54.000000   \n",
      "50%     64.000000     65.000000   704.370000   761.280000   73.000000   \n",
      "75%    124.000000    132.000000  1223.480000  1260.370000  117.000000   \n",
      "max    352.000000  32389.000000  1893.080000  2724.570000  180.000000   \n",
      "\n",
      "                f_6         f_7         f_8            f_9        f_10  ...  \\\n",
      "count  9.370000e+02  937.000000  937.000000     937.000000  937.000000  ...   \n",
      "mean   7.696964e+05   43.242721    9.127887    3940.712914    0.221003  ...   \n",
      "std    3.831151e+06   12.718404    3.588878    8167.427625    0.090316  ...   \n",
      "min    7.031200e+04   21.240000    0.830000     667.000000    0.020000  ...   \n",
      "25%    1.250000e+05   33.650000    6.750000    1371.000000    0.160000  ...   \n",
      "50%    1.863000e+05   39.970000    8.200000    2090.000000    0.200000  ...   \n",
      "75%    3.304680e+05   52.420000   10.760000    3435.000000    0.260000  ...   \n",
      "max    7.131500e+07   82.640000   24.690000  160740.000000    0.740000  ...   \n",
      "\n",
      "               f_41          f_42         f_43         f_44        f_45  \\\n",
      "count    937.000000    937.000000   937.000000   937.000000  937.000000   \n",
      "mean     933.928677    427.565582   255.435902   106.112519    5.014002   \n",
      "std     1001.681331    715.391648   534.306194   135.617708    5.029151   \n",
      "min        0.000000      0.000000     0.000000     0.000000    0.000000   \n",
      "25%      450.000000    180.000000    90.800000    50.120000    2.370000   \n",
      "50%      685.420000    270.000000   161.650000    73.850000    3.850000   \n",
      "75%     1053.420000    460.980000   265.510000   125.810000    6.320000   \n",
      "max    11949.330000  11500.000000  9593.480000  1748.130000   76.630000   \n",
      "\n",
      "             f_46          f_47        f_48        f_49      target  \n",
      "count  937.000000    937.000000  937.000000  937.000000  937.000000  \n",
      "mean     0.128068   7985.718004   61.694386    8.119723    0.043757  \n",
      "std      0.334344   6854.504915   10.412807    2.908895    0.204662  \n",
      "min      0.000000   2051.500000   35.950000    5.810000    0.000000  \n",
      "25%      0.000000   3760.570000   65.720000    6.340000    0.000000  \n",
      "50%      0.000000   5509.430000   65.930000    7.220000    0.000000  \n",
      "75%      0.000000   9521.930000   66.130000    7.840000    0.000000  \n",
      "max      1.000000  55128.460000   66.450000   15.440000    1.000000  \n",
      "\n",
      "[8 rows x 50 columns]\n"
     ]
    }
   ],
   "source": [
    "summary_stats = df.describe()\n",
    "print(\"\\nSummary statistics:\\n\", summary_stats)"
   ]
  },
  {
   "cell_type": "code",
   "execution_count": 12,
   "id": "0bba51ce-5a83-441e-a2de-a35cbf386a23",
   "metadata": {},
   "outputs": [],
   "source": [
    "X = df.drop(columns=['target'])  # Features\n",
    "y = df['target']  # Target variable"
   ]
  },
  {
   "cell_type": "code",
   "execution_count": 13,
   "id": "087bff84-7170-478f-9f36-025d120bcd16",
   "metadata": {},
   "outputs": [],
   "source": [
    "# Initialize a StandardScaler to normalize the features\n",
    "scaler = StandardScaler()\n",
    "\n",
    "# Fit and transform the feature set\n",
    "X_scaled = scaler.fit_transform(X)"
   ]
  },
  {
   "cell_type": "code",
   "execution_count": 14,
   "id": "c42d35ea-9b48-4a39-a054-13f99ef4425a",
   "metadata": {},
   "outputs": [],
   "source": [
    "# Convert the scaled data back to a DataFrame for readability\n",
    "X_scaled_df = pd.DataFrame(X_scaled, columns=X.columns)\n",
    "\n",
    "# 5. Train-Test Split (optional)\n",
    "X_train, X_test, y_train, y_test = train_test_split(X_scaled_df, y, test_size=0.2, random_state=42)\n"
   ]
  },
  {
   "cell_type": "code",
   "execution_count": 15,
   "id": "17b41ca8-6067-4c97-bb50-da05a517aa21",
   "metadata": {},
   "outputs": [
    {
     "name": "stdout",
     "output_type": "stream",
     "text": [
      "\n",
      "Cleaned and Preprocessed Data (first 5 rows):\n",
      "        f_1        f_2       f_3       f_4       f_5        f_6       f_7  \\\n",
      "0 -1.240922   1.152390  1.346434 -0.793007  0.129657   1.469091 -0.185871   \n",
      "1 -1.225524  11.389546 -1.033273 -0.057342  2.114766  14.374844  0.618905   \n",
      "2 -1.210126  -0.112818  1.252645 -0.502492  0.085544  -0.125929 -0.222058   \n",
      "3 -1.194727   0.449611  1.440556 -1.101091 -0.399705   0.583114 -0.066295   \n",
      "4 -1.179329  -0.010794  0.419520 -0.823188 -1.039352   0.002691 -0.142604   \n",
      "\n",
      "        f_8       f_9      f_10  ...      f_40      f_41       f_42  \\\n",
      "0 -0.345107  3.165389 -0.343460  ...  0.611105  1.913877   0.800597   \n",
      "1 -2.207407  7.100184 -2.226754  ...  0.611105  4.810555  15.485710   \n",
      "2 -0.498440 -0.073589 -0.454242  ...  0.611105  0.465538  -0.248340   \n",
      "3 -0.322804  1.725979 -0.343460  ...  0.611105  5.101741   0.467147   \n",
      "4 -0.584864 -0.072364 -0.565024  ...  0.611105  0.385669   0.395889   \n",
      "\n",
      "        f_43       f_44      f_45      f_46      f_47      f_48      f_49  \n",
      "0   0.950757   0.216514 -0.255448 -0.383248  3.686767  0.388730 -0.058377  \n",
      "1  17.486286  11.381341 -0.878152 -0.383248  6.362181  0.387769 -0.639664  \n",
      "2  -0.197438  -0.449905  0.858654  2.609278  3.460466  0.395456 -0.096212  \n",
      "3   0.370349   0.286675  1.654442  2.609278  4.336762  0.382004 -0.017102  \n",
      "4   0.481449   0.022483 -0.484237 -0.383248  3.072971  0.381043 -0.264751  \n",
      "\n",
      "[5 rows x 49 columns]\n"
     ]
    }
   ],
   "source": [
    "# Print the cleaned and preprocessed data (first 5 rows)\n",
    "print(\"\\nCleaned and Preprocessed Data (first 5 rows):\")\n",
    "print(X_scaled_df.head())\n",
    "\n",
    "# The data is now cleaned and preprocessed, ready for modeling."
   ]
  },
  {
   "cell_type": "code",
   "execution_count": 16,
   "id": "65b82216-05b9-4110-ae67-05908e185b9d",
   "metadata": {},
   "outputs": [
    {
     "name": "stdout",
     "output_type": "stream",
     "text": [
      "Missing values in each column:\n",
      " f_1       0\n",
      "f_2       0\n",
      "f_3       0\n",
      "f_4       0\n",
      "f_5       0\n",
      "f_6       0\n",
      "f_7       0\n",
      "f_8       0\n",
      "f_9       0\n",
      "f_10      0\n",
      "f_11      0\n",
      "f_12      0\n",
      "f_13      0\n",
      "f_14      0\n",
      "f_15      0\n",
      "f_16      0\n",
      "f_17      0\n",
      "f_18      0\n",
      "f_19      0\n",
      "f_20      0\n",
      "f_21      0\n",
      "f_22      0\n",
      "f_23      0\n",
      "f_24      0\n",
      "f_25      0\n",
      "f_26      0\n",
      "f_27      0\n",
      "f_28      0\n",
      "f_29      0\n",
      "f_30      0\n",
      "f_31      0\n",
      "f_32      0\n",
      "f_33      0\n",
      "f_34      0\n",
      "f_35      0\n",
      "f_36      0\n",
      "f_37      0\n",
      "f_38      0\n",
      "f_39      0\n",
      "f_40      0\n",
      "f_41      0\n",
      "f_42      0\n",
      "f_43      0\n",
      "f_44      0\n",
      "f_45      0\n",
      "f_46      0\n",
      "f_47      0\n",
      "f_48      0\n",
      "f_49      0\n",
      "target    0\n",
      "dtype: int64\n"
     ]
    }
   ],
   "source": [
    "# Q2. 1. Handling Missing Values (Null values)\n",
    "# Check for missing values\n",
    "missing_values = df.isnull().sum()\n",
    "print(\"Missing values in each column:\\n\", missing_values)"
   ]
  },
  {
   "cell_type": "code",
   "execution_count": 17,
   "id": "1ddb7423-084f-42d0-9a1c-6f315d128800",
   "metadata": {},
   "outputs": [],
   "source": [
    "# Impute missing values with median for numerical columns\n",
    "numerical_features = df.select_dtypes(include=['int64', 'float64']).columns\n",
    "imputer = SimpleImputer(strategy='median')\n",
    "\n",
    "df[numerical_features] = imputer.fit_transform(df[numerical_features])\n"
   ]
  },
  {
   "cell_type": "code",
   "execution_count": 18,
   "id": "db6e7f27-bac3-4849-9181-5e426d45140e",
   "metadata": {},
   "outputs": [],
   "source": [
    "# 2. One-Hot Encoding for Categorical Variables (if applicable)\n",
    "# First, we check if there are any categorical features\n",
    "categorical_features = df.select_dtypes(include=['object']).columns\n",
    "if len(categorical_features) > 0:\n",
    "    print(\"\\nCategorical features detected:\", categorical_features) "
   ]
  },
  {
   "cell_type": "code",
   "execution_count": 19,
   "id": "96f2a378-ee17-4b43-bcc0-5415e6dde1f7",
   "metadata": {},
   "outputs": [],
   "source": [
    "# 3. Feature Scaling\n",
    "# Separate features and target\n",
    "X = df.drop(columns=['target'])  # Features\n",
    "y = df['target']  # Target variable"
   ]
  },
  {
   "cell_type": "code",
   "execution_count": 20,
   "id": "b511b8e9-b578-4825-8209-b8d80f413039",
   "metadata": {},
   "outputs": [
    {
     "name": "stdout",
     "output_type": "stream",
     "text": [
      "\n",
      "Preprocessed Data (first 5 rows):\n",
      "        f_1        f_2       f_3       f_4       f_5        f_6       f_7  \\\n",
      "0 -1.240922   1.152390  1.346434 -0.793007  0.129657   1.469091 -0.185871   \n",
      "1 -1.225524  11.389546 -1.033273 -0.057342  2.114766  14.374844  0.618905   \n",
      "2 -1.210126  -0.112818  1.252645 -0.502492  0.085544  -0.125929 -0.222058   \n",
      "3 -1.194727   0.449611  1.440556 -1.101091 -0.399705   0.583114 -0.066295   \n",
      "4 -1.179329  -0.010794  0.419520 -0.823188 -1.039352   0.002691 -0.142604   \n",
      "\n",
      "        f_8       f_9      f_10  ...      f_40      f_41       f_42  \\\n",
      "0 -0.345107  3.165389 -0.343460  ...  0.611105  1.913877   0.800597   \n",
      "1 -2.207407  7.100184 -2.226754  ...  0.611105  4.810555  15.485710   \n",
      "2 -0.498440 -0.073589 -0.454242  ...  0.611105  0.465538  -0.248340   \n",
      "3 -0.322804  1.725979 -0.343460  ...  0.611105  5.101741   0.467147   \n",
      "4 -0.584864 -0.072364 -0.565024  ...  0.611105  0.385669   0.395889   \n",
      "\n",
      "        f_43       f_44      f_45      f_46      f_47      f_48      f_49  \n",
      "0   0.950757   0.216514 -0.255448 -0.383248  3.686767  0.388730 -0.058377  \n",
      "1  17.486286  11.381341 -0.878152 -0.383248  6.362181  0.387769 -0.639664  \n",
      "2  -0.197438  -0.449905  0.858654  2.609278  3.460466  0.395456 -0.096212  \n",
      "3   0.370349   0.286675  1.654442  2.609278  4.336762  0.382004 -0.017102  \n",
      "4   0.481449   0.022483 -0.484237 -0.383248  3.072971  0.381043 -0.264751  \n",
      "\n",
      "[5 rows x 49 columns]\n"
     ]
    }
   ],
   "source": [
    "# 5. Final Dataset after Preprocessing\n",
    "print(\"\\nPreprocessed Data (first 5 rows):\")\n",
    "print(X_scaled_df.head())"
   ]
  },
  {
   "cell_type": "code",
   "execution_count": 21,
   "id": "e6b00b14-f6de-4999-9d4c-3df4ec7937af",
   "metadata": {},
   "outputs": [
    {
     "name": "stdout",
     "output_type": "stream",
     "text": [
      "\n",
      "Class Distribution (Spill vs Non-Spill):\n",
      "target\n",
      "0.0    0.956243\n",
      "1.0    0.043757\n",
      "Name: proportion, dtype: float64\n"
     ]
    }
   ],
   "source": [
    "#Q3. 1. Class Distribution (to check for class imbalance)\n",
    "class_distribution = df['target'].value_counts(normalize=True)\n",
    "print(\"\\nClass Distribution (Spill vs Non-Spill):\")\n",
    "print(class_distribution)\n"
   ]
  },
  {
   "cell_type": "code",
   "execution_count": 22,
   "id": "4e524620-4d72-401b-b7de-e27834be8f01",
   "metadata": {},
   "outputs": [
    {
     "name": "stderr",
     "output_type": "stream",
     "text": [
      "C:\\Users\\LENOVO\\AppData\\Local\\Temp\\ipykernel_14144\\105300536.py:3: FutureWarning: \n",
      "\n",
      "Passing `palette` without assigning `hue` is deprecated and will be removed in v0.14.0. Assign the `x` variable to `hue` and set `legend=False` for the same effect.\n",
      "\n",
      "  sns.countplot(x='target', data=df, palette='pastel', edgecolor='black')\n"
     ]
    },
    {
     "data": {
      "image/png": "[encoded data removed]",
      "text/plain": [
       "<Figure size 800x600 with 1 Axes>"
      ]
     },
     "metadata": {},
     "output_type": "display_data"
    }
   ],
   "source": [
    "# Plot class distribution with a customized design\n",
    "plt.figure(figsize=(8, 6))\n",
    "sns.countplot(x='target', data=df, palette='pastel', edgecolor='black')\n",
    "plt.title('Correlation Matrix of Features')\n",
    "plt.show()"
   ]
  },
  {
   "cell_type": "code",
   "execution_count": 23,
   "id": "a38a40e8-6f8f-4d7f-9737-ff52b4538737",
   "metadata": {},
   "outputs": [
    {
     "name": "stdout",
     "output_type": "stream",
     "text": [
      "\n",
      "Summary Statistics:\n",
      "              f_1           f_2          f_3          f_4         f_5  \\\n",
      "count  937.000000    937.000000   937.000000   937.000000  937.000000   \n",
      "mean    81.588047    332.842049   698.707086   870.992209   84.121665   \n",
      "std     64.976730   1931.938570   599.965577   522.799325   45.361771   \n",
      "min      1.000000     10.000000     1.920000     1.000000    0.000000   \n",
      "25%     31.000000     20.000000    85.270000   444.200000   54.000000   \n",
      "50%     64.000000     65.000000   704.370000   761.280000   73.000000   \n",
      "75%    124.000000    132.000000  1223.480000  1260.370000  117.000000   \n",
      "max    352.000000  32389.000000  1893.080000  2724.570000  180.000000   \n",
      "\n",
      "                f_6         f_7         f_8            f_9        f_10  ...  \\\n",
      "count  9.370000e+02  937.000000  937.000000     937.000000  937.000000  ...   \n",
      "mean   7.696964e+05   43.242721    9.127887    3940.712914    0.221003  ...   \n",
      "std    3.831151e+06   12.718404    3.588878    8167.427625    0.090316  ...   \n",
      "min    7.031200e+04   21.240000    0.830000     667.000000    0.020000  ...   \n",
      "25%    1.250000e+05   33.650000    6.750000    1371.000000    0.160000  ...   \n",
      "50%    1.863000e+05   39.970000    8.200000    2090.000000    0.200000  ...   \n",
      "75%    3.304680e+05   52.420000   10.760000    3435.000000    0.260000  ...   \n",
      "max    7.131500e+07   82.640000   24.690000  160740.000000    0.740000  ...   \n",
      "\n",
      "               f_41          f_42         f_43         f_44        f_45  \\\n",
      "count    937.000000    937.000000   937.000000   937.000000  937.000000   \n",
      "mean     933.928677    427.565582   255.435902   106.112519    5.014002   \n",
      "std     1001.681331    715.391648   534.306194   135.617708    5.029151   \n",
      "min        0.000000      0.000000     0.000000     0.000000    0.000000   \n",
      "25%      450.000000    180.000000    90.800000    50.120000    2.370000   \n",
      "50%      685.420000    270.000000   161.650000    73.850000    3.850000   \n",
      "75%     1053.420000    460.980000   265.510000   125.810000    6.320000   \n",
      "max    11949.330000  11500.000000  9593.480000  1748.130000   76.630000   \n",
      "\n",
      "             f_46          f_47        f_48        f_49      target  \n",
      "count  937.000000    937.000000  937.000000  937.000000  937.000000  \n",
      "mean     0.128068   7985.718004   61.694386    8.119723    0.043757  \n",
      "std      0.334344   6854.504915   10.412807    2.908895    0.204662  \n",
      "min      0.000000   2051.500000   35.950000    5.810000    0.000000  \n",
      "25%      0.000000   3760.570000   65.720000    6.340000    0.000000  \n",
      "50%      0.000000   5509.430000   65.930000    7.220000    0.000000  \n",
      "75%      0.000000   9521.930000   66.130000    7.840000    0.000000  \n",
      "max      1.000000  55128.460000   66.450000   15.440000    1.000000  \n",
      "\n",
      "[8 rows x 50 columns]\n"
     ]
    }
   ],
   "source": [
    "# 2. Summary Statistics of the Features\n",
    "print(\"\\nSummary Statistics:\")\n",
    "print(df.describe())"
   ]
  },
  {
   "cell_type": "code",
   "execution_count": 24,
   "id": "488cf661-7b53-4e15-8619-0ec5e07763bc",
   "metadata": {},
   "outputs": [],
   "source": [
    "# 3. Correlation Matrix (to check feature correlations with target)\n",
    "correlation_matrix = df.corr()\n"
   ]
  },
  {
   "cell_type": "code",
   "execution_count": 25,
   "id": "b9488795-6744-4bea-acff-2709d4e9ea99",
   "metadata": {},
   "outputs": [
    {
     "data": {
      "image/png": "[encoded data removed]",
      "text/plain": [
       "<Figure size 1000x800 with 2 Axes>"
      ]
     },
     "metadata": {},
     "output_type": "display_data"
    }
   ],
   "source": [
    "# Display correlation heatmap for insights\n",
    "plt.figure(figsize=(10,8))\n",
    "sns.heatmap(correlation_matrix, annot=False, cmap='coolwarm')\n",
    "plt.title('Correlation Matrix of Features')\n",
    "plt.show()\n"
   ]
  },
  {
   "cell_type": "code",
   "execution_count": 26,
   "id": "28444147-cf12-4517-a6a5-0b868b8ae640",
   "metadata": {},
   "outputs": [
    {
     "name": "stdout",
     "output_type": "stream",
     "text": [
      "\n",
      "Correlation of Features with Target (Top 10):\n",
      "target    1.000000\n",
      "f_47      0.436890\n",
      "f_11      0.157588\n",
      "f_41      0.148987\n",
      "f_9       0.076679\n",
      "f_40      0.066220\n",
      "f_28      0.061178\n",
      "f_46      0.058537\n",
      "f_42      0.050657\n",
      "f_16      0.050515\n",
      "Name: target, dtype: float64\n"
     ]
    }
   ],
   "source": [
    "# 4. Correlation of Features with Target\n",
    "correlation_with_target = correlation_matrix['target'].sort_values(ascending=False)\n",
    "print(\"\\nCorrelation of Features with Target (Top 10):\")\n",
    "print(correlation_with_target.head(10))"
   ]
  },
  {
   "cell_type": "code",
   "execution_count": 27,
   "id": "1286b620-0103-4ada-8048-9a0cd0f63934",
   "metadata": {},
   "outputs": [],
   "source": [
    "# 5. Feature Importance using Random Forest\n",
    "# Separate features and target\n",
    "X = df.drop(columns=['target'])\n",
    "y = df['target']\n"
   ]
  },
  {
   "cell_type": "code",
   "execution_count": 28,
   "id": "8316e201-cb56-4273-9bcc-c3d72ddf2b1f",
   "metadata": {},
   "outputs": [],
   "source": [
    "# Train a RandomForest to extract feature importance\n",
    "model = RandomForestClassifier(random_state=42)\n",
    "model.fit(X, y)\n",
    "\n",
    "# Get feature importance and sort\n",
    "feature_importance = pd.Series(model.feature_importances_, index=X.columns).sort_values(ascending=False)\n"
   ]
  },
  {
   "cell_type": "code",
   "execution_count": 29,
   "id": "2a1eaf6d-cefe-41a3-a8c2-37a456e9b9c3",
   "metadata": {},
   "outputs": [
    {
     "name": "stdout",
     "output_type": "stream",
     "text": [
      "\n",
      "Top 10 Important Features Based on Random Forest:\n",
      "f_47    0.122947\n",
      "f_1     0.064949\n",
      "f_25    0.053348\n",
      "f_17    0.033174\n",
      "f_24    0.030025\n",
      "f_8     0.029820\n",
      "f_7     0.029042\n",
      "f_41    0.028235\n",
      "f_10    0.025778\n",
      "f_11    0.024566\n",
      "dtype: float64\n"
     ]
    },
    {
     "data": {
      "image/png": "[encoded data removed]",
      "text/plain": [
       "<Figure size 1000x600 with 1 Axes>"
      ]
     },
     "metadata": {},
     "output_type": "display_data"
    }
   ],
   "source": [
    "# Display top 10 important features\n",
    "print(\"\\nTop 10 Important Features Based on Random Forest:\")\n",
    "print(feature_importance.head(10))\n",
    "\n",
    "# Plot feature importance\n",
    "plt.figure(figsize=(10,6))\n",
    "sns.barplot(x=feature_importance.head(10), y=feature_importance.head(10).index)\n",
    "plt.title('Top 10 Important Features Based on Random Forest')\n",
    "plt.xlabel('Feature Importance Score')\n",
    "plt.ylabel('Features')\n",
    "plt.show()"
   ]
  },
  {
   "cell_type": "code",
   "execution_count": 30,
   "id": "3d50a908-e2b5-47ba-9fce-43e3ce68315d",
   "metadata": {},
   "outputs": [],
   "source": [
    "# Q4. Preprocessing: Assuming df is already preprocessed as per previous steps\n",
    "# Separate features and target\n",
    "X = df.drop(columns=['target'])\n",
    "y = df['target']"
   ]
  },
  {
   "cell_type": "code",
   "execution_count": 31,
   "id": "e5f98786-421d-4b2d-a8b0-d90504113db4",
   "metadata": {},
   "outputs": [],
   "source": [
    "# Train-Test Split\n",
    "X_train, X_test, y_train, y_test = train_test_split(X, y, test_size=0.2, random_state=42)"
   ]
  },
  {
   "cell_type": "code",
   "execution_count": 32,
   "id": "d931cf0f-851f-42c3-a596-d88ea362e594",
   "metadata": {},
   "outputs": [],
   "source": [
    "# Scale the features\n",
    "scaler = StandardScaler()\n",
    "X_train_scaled = scaler.fit_transform(X_train)\n",
    "X_test_scaled = scaler.transform(X_test)"
   ]
  },
  {
   "cell_type": "code",
   "execution_count": 33,
   "id": "6874897c-685e-4da8-b2be-e570bdc6a126",
   "metadata": {},
   "outputs": [],
   "source": [
    "# Initialize models\n",
    "models = {\n",
    "    'Logistic Regression': LogisticRegression(max_iter=1000),\n",
    "    'Decision Tree': DecisionTreeClassifier(random_state=42),\n",
    "    'Random Forest': RandomForestClassifier(random_state=42),\n",
    "    'Gradient Boosting': GradientBoostingClassifier(random_state=42),\n",
    "}\n"
   ]
  },
  {
   "cell_type": "code",
   "execution_count": 34,
   "id": "aa1ce4c2-0793-473a-af2a-f7d223cea08a",
   "metadata": {},
   "outputs": [],
   "source": [
    "# Initialize results dictionary\n",
    "results = {}\n"
   ]
  },
  {
   "cell_type": "code",
   "execution_count": 35,
   "id": "02f6d9fd-5c5a-4ce1-8e61-87a127dc1345",
   "metadata": {},
   "outputs": [],
   "source": [
    "# Train and evaluate each model\n",
    "for model_name, model in models.items():\n",
    "    # Fit the model\n",
    "    model.fit(X_train_scaled, y_train)  # Use scaled data for fitting\n",
    "    \n",
    "    # Predict on test set\n",
    "    y_pred = model.predict(X_test_scaled)  # Use scaled data for predictions\n",
    "    "
   ]
  },
  {
   "cell_type": "code",
   "execution_count": 36,
   "id": "fd1f4377-0f74-4f04-9810-6a579d0dd692",
   "metadata": {},
   "outputs": [],
   "source": [
    "# Display detailed classification reports for each model\n",
    "for model_name, metrics in results.items():\n",
    "    print(f\"\\nClassification Report for {model_name}:\\n\")\n",
    "    print(metrics['Classification Report'])"
   ]
  },
  {
   "cell_type": "code",
   "execution_count": 37,
   "id": "ddf5c019-858f-4563-b9c9-19e0b9f08b04",
   "metadata": {},
   "outputs": [],
   "source": [
    "#Q5. Initialize models\n",
    "models = {\n",
    "    'Logistic Regression': LogisticRegression(max_iter=2000),\n",
    "    'Decision Tree': DecisionTreeClassifier(random_state=42),\n",
    "    'Random Forest': RandomForestClassifier(random_state=42),\n",
    "    'Gradient Boosting': GradientBoostingClassifier(random_state=42)\n",
    "}"
   ]
  },
  {
   "cell_type": "code",
   "execution_count": 38,
   "id": "400263c8-4484-4b7e-ab01-ab3c8b462ad8",
   "metadata": {},
   "outputs": [],
   "source": [
    "\n",
    "# Train and evaluate each model\n",
    "for model_name, model in models.items():\n",
    "    model.fit(X_train_scaled, y_train)\n",
    "    y_pred = model.predict(X_test_scaled)\n",
    "    accuracy = accuracy_score(y_test, y_pred)\n",
    "    roc_auc =(y_test,(X_test_scaled)[:, 0])\n",
    "    results[model_name] = {\n",
    "        'Accuracy': accuracy,\n",
    "        'ROC AUC': roc_auc,\n",
    "        'Model': model\n",
    "    }"
   ]
  },
  {
   "cell_type": "code",
   "execution_count": 39,
   "id": "a3cc977d-be65-4caa-b617-317468c4d354",
   "metadata": {},
   "outputs": [],
   "source": [
    "# Identify the best model\n",
    "#best_model_name = max(results, key=lambda x: results[x]['ROC AUC'])\n",
    "#best_model = results[best_model_name]['Model']"
   ]
  },
  {
   "cell_type": "code",
   "execution_count": 40,
   "id": "722e999e-5de7-4a43-8de4-d3ab7025b356",
   "metadata": {},
   "outputs": [],
   "source": [
    "# Q6. Load the saved model\n",
    "model_filename = 'best_model.joblib'\n",
    "#loaded_model = load(model.joblib)\n",
    "\n",
    "# Randomly sample 20 data points from the original dataset\n",
    "sampled_data = df.sample(n=20, random_state=42)  # Set random_state for reproducibility\n"
   ]
  },
  {
   "cell_type": "code",
   "execution_count": 41,
   "id": "b4f0a3b5-1955-4d28-baae-6946a7fe02cf",
   "metadata": {},
   "outputs": [],
   "source": [
    "# Prepare features for prediction (excluding the target column)\n",
    "X_sample = sampled_data.drop(columns=['target'])\n",
    "\n",
    "# Scale the features using the same scaler used for training\n",
    "scaler = StandardScaler()\n",
    "X_sample_scaled = scaler.fit_transform(X_sample)"
   ]
  },
  {
   "cell_type": "code",
   "execution_count": 42,
   "id": "8fa6ecd9-2b95-47f2-80d4-5533e6ce0ad9",
   "metadata": {},
   "outputs": [
    {
     "name": "stdout",
     "output_type": "stream",
     "text": [
      "\n",
      "New dataset with predictions saved to 'sampled_oil_spill_predictions.csv'.\n"
     ]
    }
   ],
   "source": [
    "# Optionally, save the new dataset to a CSV file\n",
    "sampled_data.to_csv('sampled_oil_spill_predictions.csv', index=False)\n",
    "print(\"\\nNew dataset with predictions saved to 'sampled_oil_spill_predictions.csv'.\")"
   ]
  },
  {
   "cell_type": "code",
   "execution_count": null,
   "id": "2892c2a9-e121-4590-a859-f9b5f04c9f92",
   "metadata": {},
   "outputs": [],
   "source": []
  },
  {
   "cell_type": "code",
   "execution_count": null,
   "id": "e51b897d-114d-4a9d-a9b3-35a5d478fe01",
   "metadata": {},
   "outputs": [],
   "source": []
  }
 ],
 "metadata": {
  "kernelspec": {
   "display_name": "Python 3 (ipykernel)",
   "language": "python",
   "name": "python3"
  },
  "language_info": {
   "codemirror_mode": {
    "name": "ipython",
    "version": 3
   },
   "file_extension": ".py",
   "mimetype": "text/x-python",
   "name": "python",
   "nbconvert_exporter": "python",
   "pygments_lexer": "ipython3",
   "version": "3.12.6"
  }
 },
 "nbformat": 4,
 "nbformat_minor": 5
}
